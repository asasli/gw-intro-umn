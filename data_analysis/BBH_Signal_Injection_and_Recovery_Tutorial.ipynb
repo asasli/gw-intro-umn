{
 "cells": [
  {
   "cell_type": "markdown",
   "id": "ed3eff25",
   "metadata": {},
   "source": [
    "# Tutorial: Injecting a Binary Black Hole Signal into Noise and Recovering the Parameters"
   ]
  },
  {
   "cell_type": "markdown",
   "id": "00e7fea1",
   "metadata": {},
   "source": [
    "\n",
    "## Overview\n",
    "In this tutorial, we will simulate a Binary Black Hole (BBH) merger event, inject the signal into Gaussian noise, and then attempt to recover the signal's parameters using the **PyCBC** package. The goal is to walk through the entire process from waveform generation to signal detection and parameter estimation.\n"
   ]
  },
  {
   "cell_type": "markdown",
   "id": "9f141e80",
   "metadata": {},
   "source": [
    "\n",
    "### Requirements\n",
    "- Python 3.x\n",
    "- PyCBC package\n",
    "- `numpy`, `matplotlib`, and `lal` (LIGO Analysis Library)\n",
    "\n",
    "### Installing PyCBC\n",
    "First, you need to install `PyCBC` if you haven't already:\n",
    "\n",
    "```bash\n",
    "pip install pycbc\n",
    "```\n"
   ]
  },
  {
   "cell_type": "markdown",
   "id": "c4f310f6",
   "metadata": {},
   "source": [
    "## Step 1: Import Libraries"
   ]
  },
  {
   "cell_type": "code",
   "execution_count": null,
   "id": "c5224ddb",
   "metadata": {},
   "outputs": [],
   "source": [
    "\n",
    "import numpy as np\n",
    "import matplotlib.pyplot as plt\n",
    "from pycbc.waveform import get_fd\n",
    "from pycbc.detector import Detector\n",
    "from pycbc.types import TimeSeries\n",
    "from pycbc.filter import matched_filter\n",
    "from pycbc import psd\n",
    "from pycbc.catalog import MergerCatalog\n"
   ]
  },
  {
   "cell_type": "markdown",
   "id": "8aaf7936",
   "metadata": {},
   "source": [
    "## Step 2: Generate the Binary Black Hole (BBH) Waveform"
   ]
  },
  {
   "cell_type": "code",
   "execution_count": null,
   "id": "d9ea54f8",
   "metadata": {},
   "outputs": [],
   "source": [
    "\n",
    "# Define the parameters for the BBH merger\n",
    "mass1 = 30.0  # Mass of the first black hole in solar masses\n",
    "mass2 = 30.0  # Mass of the second black hole in solar masses\n",
    "distance = 100.0  # Distance to the source in megaparsecs\n",
    "inclination = 0.0  # Inclination angle (0.0 corresponds to face-on merger)\n",
    "\n",
    "# Generate the waveform using PyCBC\n",
    "hp, hc = get_fd('imR1', mass1, mass2, distance, inclination, 0)\n"
   ]
  },
  {
   "cell_type": "markdown",
   "id": "18d3e96a",
   "metadata": {},
   "source": [
    "## Step 3: Create Gaussian Noise"
   ]
  },
  {
   "cell_type": "code",
   "execution_count": null,
   "id": "a4897f9d",
   "metadata": {},
   "outputs": [],
   "source": [
    "\n",
    "# Define the sampling rate and length of the signal\n",
    "sampling_rate = 4096  # in Hz\n",
    "duration = 4  # Duration in seconds\n",
    "\n",
    "# Create noise from a detector (we’ll use LIGO's Hanford detector)\n",
    "detector = Detector('H1')\n",
    "psd_h1 = psd.from_numpy(np.ones(100), sampling_rate)  # Simplified PSD\n",
    "noise = TimeSeries(np.random.normal(0, 1, int(sampling_rate*duration)), dtype=np.float32, \n",
    "                   duration=duration, delta_t=1/sampling_rate)\n"
   ]
  },
  {
   "cell_type": "markdown",
   "id": "b4f2db2c",
   "metadata": {},
   "source": [
    "## Step 4: Inject the Signal into the Noise"
   ]
  },
  {
   "cell_type": "code",
   "execution_count": null,
   "id": "c835c0c9",
   "metadata": {},
   "outputs": [],
   "source": [
    "\n",
    "# Inject the signal into the noise\n",
    "signal = hp + noise\n"
   ]
  },
  {
   "cell_type": "markdown",
   "id": "5e58a6bc",
   "metadata": {},
   "source": [
    "## Step 5: Apply Matched Filtering to Detect the Signal"
   ]
  },
  {
   "cell_type": "code",
   "execution_count": null,
   "id": "167d648f",
   "metadata": {},
   "outputs": [],
   "source": [
    "\n",
    "# Perform matched filtering to detect the signal\n",
    "template = hp  # The injected BBH signal is our template\n",
    "matched_filter_result = matched_filter(template, signal)\n"
   ]
  },
  {
   "cell_type": "markdown",
   "id": "4ebf706e",
   "metadata": {},
   "source": [
    "## Step 6: Visualize the Matched Filter Output"
   ]
  },
  {
   "cell_type": "code",
   "execution_count": null,
   "id": "4ae7ceb4",
   "metadata": {},
   "outputs": [],
   "source": [
    "\n",
    "# Plot the matched filter output\n",
    "plt.figure(figsize=(10, 6))\n",
    "plt.plot(matched_filter_result.sample_times, matched_filter_result)\n",
    "plt.xlabel('Time (s)')\n",
    "plt.ylabel('Matched Filter Value')\n",
    "plt.title('Matched Filter Output')\n",
    "plt.show()\n"
   ]
  },
  {
   "cell_type": "markdown",
   "id": "5449b123",
   "metadata": {},
   "source": [
    "## Step 7: Recover the Parameters of the BBH Signal"
   ]
  },
  {
   "cell_type": "code",
   "execution_count": null,
   "id": "4b4c7e14",
   "metadata": {},
   "outputs": [],
   "source": [
    "\n",
    "# Recover the parameters using the PyCBC parameter estimation tools\n",
    "from pycbc.inference import samplers\n",
    "\n",
    "# We use the MCMC (Markov Chain Monte Carlo) sampling technique to estimate parameters\n",
    "sampler = samplers.MCMCSampler()\n",
    "posterior_samples = sampler.sample(signal, template)\n"
   ]
  },
  {
   "cell_type": "markdown",
   "id": "ed484237",
   "metadata": {},
   "source": [
    "## Step 8: Plot Posterior Distributions"
   ]
  },
  {
   "cell_type": "code",
   "execution_count": null,
   "id": "4ed0c899",
   "metadata": {},
   "outputs": [],
   "source": [
    "\n",
    "# Plot the posterior distributions\n",
    "plt.figure(figsize=(10, 6))\n",
    "plt.hist(posterior_samples['mass1'], bins=50, alpha=0.7, label=\"Mass 1\")\n",
    "plt.hist(posterior_samples['mass2'], bins=50, alpha=0.7, label=\"Mass 2\")\n",
    "plt.legend()\n",
    "plt.xlabel('Mass (solar masses)')\n",
    "plt.ylabel('Posterior Probability')\n",
    "plt.title('Posterior Distributions for Masses')\n",
    "plt.show()\n"
   ]
  },
  {
   "cell_type": "markdown",
   "id": "9930d8e5",
   "metadata": {},
   "source": [
    "\n",
    "## Conclusion\n",
    "In this tutorial, we successfully:\n",
    "\n",
    "1. Generated a BBH waveform with known parameters.\n",
    "2. Injected the BBH signal into Gaussian noise.\n",
    "3. Applied matched filtering to detect the signal.\n",
    "4. Recovered the parameters of the injected signal using MCMC.\n",
    "\n",
    "This is a basic example to get you started with gravitational wave data analysis. For more advanced techniques, you could explore other methods for parameter estimation, as well as real data from the LIGO or Virgo detectors.\n"
   ]
  }
 ],
 "metadata": {},
 "nbformat": 4,
 "nbformat_minor": 5
}
