{
 "cells": [
  {
   "cell_type": "markdown",
   "id": "8241951b",
   "metadata": {},
   "source": [
    "# Injected waveform overview\n",
    "This is a notebook to produce BNS waveforms."
   ]
  },
  {
   "cell_type": "markdown",
   "id": "878cf5db",
   "metadata": {},
   "source": [
    "## Prerequisites\n",
    "\n",
    "### PyCBC\n",
    "\n",
    "For the purposes of this notebook, we use the **PyCBC** package. It is useful to analyze gravitational-wave data! You can find out more by visit its [github page](https://github.com/gwastro/pycbc) or its [web-page](https://pycbc.org/). Also, you can try out their [tutorials](https://github.com/gwastro/PyCBC-Tutorials) (including a good  [video by Collin Capano](https://icerm.brown.edu/video_archive/?play=2407)) without installing the package."
   ]
  },
  {
   "cell_type": "code",
   "execution_count": null,
   "id": "4e70a04d",
   "metadata": {},
   "outputs": [],
   "source": [
    "#!pip install pycbc"
   ]
  },
  {
   "cell_type": "markdown",
   "id": "3d3dc287",
   "metadata": {},
   "source": [
    "**Importing required modules...**"
   ]
  },
  {
   "cell_type": "code",
   "execution_count": 2,
   "id": "2ae60458",
   "metadata": {},
   "outputs": [],
   "source": [
    "####################################### Some basic imports ###############################\n",
    "import sys\n",
    "\n",
    "from matplotlib import pyplot as plt\n",
    "import matplotlib\n",
    "%matplotlib inline\n",
    "\n",
    "rcparams = {\n",
    "          'axes.labelsize': 10,\n",
    "          'font.size': 8,\n",
    "          'font.family': 'Times New Roman',\n",
    "          'font.sans-serif': 'Bitstream Vera Sans',\n",
    "          'legend.fontsize': 10,\n",
    "          'xtick.color': 'k',\n",
    "          'xtick.labelsize': 8,\n",
    "          'ytick.color': 'k',\n",
    "          'ytick.labelsize': 8,\n",
    "          'text.usetex': True,\n",
    "          'text.color': 'k',\n",
    "          'figure.figsize': [4.4, 3.1],\n",
    "          'figure.dpi': 150,\n",
    "          }\n",
    "import numpy as np\n",
    "\n",
    "############################################################################################\n",
    "from pycbc.detector import Detector"
   ]
  },
  {
   "cell_type": "markdown",
   "id": "0eaa594c",
   "metadata": {},
   "source": [
    "## Waveform Overview"
   ]
  },
  {
   "cell_type": "markdown",
   "id": "679dde1a",
   "metadata": {},
   "source": [
    "#### Antenna pattern\n",
    "\n",
    "Based on the papers [Shutz (2011)](https://arxiv.org/pdf/1102.5421.pdf) and [Anderson et al (2001) - \"Appendix B\"](https://arxiv.org/pdf/gr-qc/0008066.pdf).\n",
    "\n",
    "\n",
    "Each detector is linearly polarized and has a quadrupolar antenna pattern. In the notation of [Sathyaprakash and Schutz (2009)](https://arxiv.org/pdf/0903.0338.pdf), they consider a detector in the x − y plane with arms along the axes (in terms of latitude and longitude {$\\phi, \\lambda$}, the coordinate axes are oriented so that the x-axis pierces the earth at {000, 000}, the y-axis pierces the earth at {$000, 090 ^{\\circ}E$}, and the z-axis pierces the earth at {$090 ^{\\circ} N, 000$}), and a gravitational wave coming from a direction given by the usual spherical polar coordinates $\\theta$ and $\\phi$ relative to the detector’s axes, whose two polarization components $h_+$ and $h_\\times$ are referred to axes in the plane of the sky that are rotated by an angle $\\psi$ relative to the detector axes (see figure 3 of Sathyaprakash and Schutz, 2009).\n",
    "\n",
    "Then, the antenna pattern response functions of the interferometer to the two polarizations of the wave as defined in the sky plane:\n",
    "\n",
    "$$F_+=-\\frac{1}{2}\\big(1+\\cos^2\\theta\\big)\\cos2\\phi \\cos2\\psi-\\cos\\theta\\sin2\\phi \\sin2\\psi$$\n",
    "$$F_\\times=\\frac{1}{2}\\big(1+\\cos^2\\theta\\big)\\cos2\\phi \\cos2\\psi+\\cos\\theta\\sin2\\phi \\sin2\\psi$$\n",
    "\n",
    "\n",
    "A fiducial signal s comes from a sky position with right ascension $\\alpha = \\phi$ + GMST (GMST is the Greenwich mean sidereal time of arrival of the signal), declination $\\delta = \\pi/2 − \\theta$, and has polarization angle $\\psi$—the angle (counter-clockwise about the direction of propagation) from the line of nodes to the X-axis\n",
    "of the signal coordinates.\n",
    "\n",
    "In this concept is based the package ```pyCBC```, from which someone can obtain the detector responses by importing the class ```Detector``` from ```pycbc.detector``` and then calling the function ```antenna_pattern(right_ascension, declination, polarization, t_gps)```. "
   ]
  },
  {
   "cell_type": "markdown",
   "id": "5f32a462",
   "metadata": {},
   "source": [
    "### **Optimal sky-location for a given gps time**\n",
    "\n",
    "\n",
    "The module ```optimal_orientation``` from ```pycbc.detector``` returns the **optimal orientantion** of the source for a given gps time and detector"
   ]
  },
  {
   "cell_type": "code",
   "execution_count": 3,
   "id": "8dbfa5d4",
   "metadata": {},
   "outputs": [
    {
     "name": "stdout",
     "output_type": "stream",
     "text": [
      "4.540198047967529 0.5334231350225018\n"
     ]
    }
   ],
   "source": [
    "# gps time (BayesWave input) or trigger time of the event\n",
    "gps_time = 1186969282.43 # 1187008882.43 GW170817\n",
    "\n",
    "# detectors\n",
    "detector = {'H1':'h','L1':'l','V1':'v'}\n",
    "\n",
    "# get Detector instance for IFO\n",
    "ifo = 'L1'\n",
    "det = Detector(ifo)\n",
    "\n",
    "ra, dec = det.optimal_orientation(gps_time)\n",
    "while ra < 0:\n",
    "    ra += 2 * np.pi\n",
    "print(ra,dec)"
   ]
  },
  {
   "cell_type": "markdown",
   "id": "dea53155",
   "metadata": {},
   "source": [
    "Example of the antenna pattern functions for an optimal oriented source:"
   ]
  },
  {
   "cell_type": "code",
   "execution_count": 4,
   "id": "d2ae53f6",
   "metadata": {},
   "outputs": [
    {
     "name": "stdout",
     "output_type": "stream",
     "text": [
      "0.814793835285605 -0.5797504226609747\n"
     ]
    }
   ],
   "source": [
    "polarization = 0\n",
    "\n",
    "fp, fc = det.antenna_pattern(ra, dec, polarization, gps_time)\n",
    "\n",
    "print(fp, fc)"
   ]
  },
  {
   "cell_type": "markdown",
   "id": "ca453a76",
   "metadata": {},
   "source": [
    "### Effective distance\n",
    "\n",
    "The effective distance of the source scales the distance so that the amplitude is equal to a source which is optimally oriented with respect to the detector. For fixed detector-frame intrinsic parameters this is a measure of the expected signal strength.\n",
    "\n",
    "Thus, the **effective distance** ($d_{eff}$) **equals the physical distance** if the binary is seen **face-on**, and is at the detector’s zenith or nadir [(see more - Whelan, 2013)](https://dcc.ligo.org/public/0106/T1300666/003/Whelan_geometry.pdf).\n",
    "\n",
    "**How can someone compute the effective distance?**\n",
    "\n",
    "Assuming the low-inspiral approximation and after some calculations, we see that the overall amplitude is determined by the distance to the source\n",
    "\n",
    "$$h(t)=\\frac{A(t)}{d}\\bigg(\\sqrt{F^2_+\\frac{(1+\\cos{\\iota})^2}{4}+F^2_{\\times}\\cos^2\\iota}\\bigg)\\cos[\\Phi(t)+\\Psi]$$\n",
    "\n",
    "that distance appears together with the observing geometry in a combination known as *effective distance*\n",
    "\n",
    "$$d_{eff}=\\frac{d}{\\sqrt{F^2_+\\frac{(1+\\cos{\\iota})^2}{4}+F^2_{\\times}\\cos^2\\iota}}$$\n",
    "\n",
    "where \n",
    "* $F_+, F_{\\times}$ are the antenna pattern factors, \n",
    "\n",
    "* d the physical distance of the source, \n",
    "\n",
    "* $\\iota$ the inclination, \n",
    "\n",
    "* A(t) the amplitude, \n",
    "\n",
    "* $\\Phi(t)=2\\Omega(t-d/c)$,\n",
    "\n",
    "* t-d/c indicates that the observer is seeing the source as it was at a time in the past, when the gravitational waves now reaching the observer were emitted,\n",
    "\n",
    "* $\\Omega$ is the angular speed\n",
    "\n",
    "* and $\\Psi$ the phase between the terms $F_+\\frac{(1+\\cos{\\iota})}{2}$ and $F_{\\times}\\cos\\iota$\n",
    "\n",
    "\n",
    "Note that the factor in the square root is a maximum (and therefore the effective distance corresponding to a given physical distance) when $|\\cos\\iota| = 1$, i.e., we are seeing the binary face on ($\\iota = 0$ or  $\\iota= \\pi$).\n",
    "\n",
    "Considering the above-mentioned relation for the effective distance and making the assumption that the $|\\cos\\iota| = 1$, then the term $F^2_+ + F^2_{\\times}\\le1$ and thus $d_{eff}\\ge d$"
   ]
  },
  {
   "cell_type": "code",
   "execution_count": 5,
   "id": "cd291182",
   "metadata": {},
   "outputs": [],
   "source": [
    "def effective_distance(distance, inclination, fp, fc):\n",
    "    cplus = fp**2 * ( 1 + np.cos( inclination )**2 )**2/ 4 \n",
    "    ccross = fc**2 * np.cos( inclination )**2 \n",
    "    denominator = np.sqrt(cplus + ccross)\n",
    "    return distance / denominator"
   ]
  },
  {
   "cell_type": "markdown",
   "id": "07adda65",
   "metadata": {},
   "source": [
    "Let's say that our source is estimated to be at 5Mpc. If the source isn't optimally oriented with respect to the detector, the effective distance is"
   ]
  },
  {
   "cell_type": "code",
   "execution_count": 6,
   "id": "fe922b69",
   "metadata": {},
   "outputs": [
    {
     "name": "stdout",
     "output_type": "stream",
     "text": [
      "12.273043274185742\n"
     ]
    }
   ],
   "source": [
    "print(effective_distance(5, -np.pi/2, fp, fc))"
   ]
  },
  {
   "cell_type": "markdown",
   "id": "096ccc6b",
   "metadata": {},
   "source": [
    "Some tests for that cases (by changing the inclination):"
   ]
  },
  {
   "cell_type": "code",
   "execution_count": 7,
   "id": "37a3979a",
   "metadata": {},
   "outputs": [
    {
     "name": "stdout",
     "output_type": "stream",
     "text": [
      "0 12.273029518129151\n",
      "0.1 14.633259907401083\n",
      "0.2 19.058120530507857\n",
      "0.30000000000000004 28.974745683857236\n",
      "0.4 65.88205875421083\n",
      "0.5 210.05491979298532\n",
      "0.6 40.79939693401914\n",
      "0.7 23.104010026520108\n",
      "0.7999999999999999 16.57567853871292\n",
      "0.8999999999999999 13.338483783746184\n",
      "0.9999999999999999 11.54416270433148\n",
      "1.0999999999999999 10.545934404964456\n",
      "1.2 10.076341138423468\n",
      "1.3 10.02958795907729\n",
      "1.4000000000000001 10.395800273487694\n",
      "1.5000000000000002 11.255495475591456\n",
      "1.6000000000000003 12.827699927147309\n",
      "1.7000000000000004 15.634958580485135\n",
      "1.8000000000000005 21.091564280348475\n",
      "1.9000000000000006 34.512242485724705\n",
      "2.0000000000000004 106.57595521290767\n",
      "2.1000000000000005 94.48816436454722\n",
      "2.2000000000000006 33.192015627110386\n",
      "2.3000000000000007 20.630883602679113\n",
      "2.400000000000001 15.41261212463932\n",
      "2.500000000000001 12.705479662405223\n",
      "2.600000000000001 11.18659578240407\n",
      "2.700000000000001 10.361041167052393\n",
      "2.800000000000001 10.021011107342217\n",
      "2.9000000000000012 10.092147711309496\n",
      "3.0000000000000013 10.589489319320652\n",
      "3.1000000000000014 11.625902494268772\n",
      "3.2000000000000015 13.4830390215752\n",
      "3.3000000000000016 16.84554704354859\n",
      "3.4000000000000017 23.70124749958691\n",
      "3.5000000000000018 42.847070819475434\n",
      "3.600000000000002 281.26866800318487\n",
      "3.700000000000002 61.08765898410599\n",
      "3.800000000000002 28.05636216890911\n",
      "3.900000000000002 18.69361358976408\n",
      "4.000000000000002 14.448105730864857\n",
      "4.100000000000001 12.169457310154424\n",
      "4.200000000000001 10.886526313960818\n",
      "4.300000000000001 10.216762768418212\n",
      "4.4 10.000204330797544\n",
      "4.5 10.190464992337304\n",
      "4.6 10.828162805531445\n",
      "4.699999999999999 12.064062502120983\n",
      "4.799999999999999 14.26019480035748\n",
      "4.899999999999999 18.327085969293083\n",
      "4.999999999999998 27.15359912924836\n",
      "5.099999999999998 56.74462181041105\n",
      "5.1999999999999975 437.7391436587816\n",
      "5.299999999999997 45.2474925531585\n",
      "5.399999999999997 24.36896875660548\n",
      "5.4999999999999964 17.142382152893777\n",
      "5.599999999999996 13.640987764963471\n",
      "5.699999999999996 11.715168463186464\n",
      "5.799999999999995 10.637465260091416\n",
      "5.899999999999995 10.110454989233713\n",
      "5.999999999999995 10.013563759901047\n",
      "6.099999999999994 10.32628043121574\n",
      "6.199999999999994 11.116630060206148\n"
     ]
    }
   ],
   "source": [
    "# get Detector instance for IFO\n",
    "det = Detector(ifo)\n",
    "\n",
    "i=0\n",
    "while i<=2*np.pi:\n",
    "    polarization = i \n",
    "\n",
    "    # get time delay to detector from center of the Earth\n",
    "    time_delay = det.time_delay_from_earth_center(ra, dec, gps_time)\n",
    "    local_time = gps_time + time_delay\n",
    "    \n",
    "    # get antenna pattern\n",
    "    fp, fc = det.antenna_pattern(ra, dec, polarization, local_time)\n",
    "\n",
    "    print(i, effective_distance(5, np.pi/2, fp, fc))\n",
    "    i+=0.1"
   ]
  },
  {
   "cell_type": "code",
   "execution_count": 8,
   "id": "f9b5bfc2",
   "metadata": {},
   "outputs": [
    {
     "data": {
      "text/plain": [
       "3510.9656280100303"
      ]
     },
     "execution_count": 8,
     "metadata": {},
     "output_type": "execute_result"
    }
   ],
   "source": [
    "# There are some blind spots 45/-45 deg -> https://core.ac.uk/download/pdf/11814199.pdf\n",
    "polarization = 5.19\n",
    "# get antenna pattern\n",
    "# get time delay to detector from center of the Earth\n",
    "time_delay = det.time_delay_from_earth_center(ra, dec, gps_time)\n",
    "local_time = gps_time #+ time_delay\n",
    "\n",
    "fp, fc = det.antenna_pattern(ra, dec, polarization, local_time)\n",
    "\n",
    "effective_distance(5, np.pi/2, fp, fc)"
   ]
  },
  {
   "cell_type": "markdown",
   "id": "ddfeafa7",
   "metadata": {},
   "source": [
    "However, if the inclination is optimal (face-on) case, we can get almost the physical distance for each polarization"
   ]
  },
  {
   "cell_type": "code",
   "execution_count": 9,
   "id": "5a248d45",
   "metadata": {},
   "outputs": [
    {
     "name": "stdout",
     "output_type": "stream",
     "text": [
      "0 5.000001134261159\n",
      "0.1 5.000001134261158\n",
      "0.2 5.000001134261159\n",
      "0.30000000000000004 5.00000113426116\n",
      "0.4 5.00000113426116\n",
      "0.5 5.000001134261159\n",
      "0.6 5.000001134261159\n",
      "0.7 5.00000113426116\n",
      "0.7999999999999999 5.00000113426116\n",
      "0.8999999999999999 5.000001134261159\n",
      "0.9999999999999999 5.0000011342611606\n",
      "1.0999999999999999 5.00000113426116\n",
      "1.2 5.0000011342611606\n",
      "1.3 5.000001134261159\n",
      "1.4000000000000001 5.000001134261159\n",
      "1.5000000000000002 5.000001134261159\n",
      "1.6000000000000003 5.000001134261159\n",
      "1.7000000000000004 5.0000011342611606\n",
      "1.8000000000000005 5.000001134261159\n",
      "1.9000000000000006 5.000001134261159\n",
      "2.0000000000000004 5.000001134261159\n",
      "2.1000000000000005 5.00000113426116\n",
      "2.2000000000000006 5.000001134261159\n",
      "2.3000000000000007 5.00000113426116\n",
      "2.400000000000001 5.00000113426116\n",
      "2.500000000000001 5.000001134261159\n",
      "2.600000000000001 5.000001134261159\n",
      "2.700000000000001 5.000001134261159\n",
      "2.800000000000001 5.00000113426116\n",
      "2.9000000000000012 5.00000113426116\n",
      "3.0000000000000013 5.000001134261159\n",
      "3.1000000000000014 5.00000113426116\n",
      "3.2000000000000015 5.00000113426116\n",
      "3.3000000000000016 5.000001134261159\n",
      "3.4000000000000017 5.00000113426116\n",
      "3.5000000000000018 5.00000113426116\n",
      "3.600000000000002 5.000001134261159\n",
      "3.700000000000002 5.000001134261159\n",
      "3.800000000000002 5.000001134261159\n",
      "3.900000000000002 5.000001134261159\n",
      "4.000000000000002 5.000001134261159\n",
      "4.100000000000001 5.000001134261159\n",
      "4.200000000000001 5.000001134261158\n",
      "4.300000000000001 5.000001134261159\n",
      "4.4 5.000001134261159\n",
      "4.5 5.0000011342611606\n",
      "4.6 5.000001134261159\n",
      "4.699999999999999 5.0000011342611606\n",
      "4.799999999999999 5.000001134261159\n",
      "4.899999999999999 5.000001134261159\n",
      "4.999999999999998 5.000001134261159\n",
      "5.099999999999998 5.000001134261159\n",
      "5.1999999999999975 5.000001134261159\n",
      "5.299999999999997 5.000001134261159\n",
      "5.399999999999997 5.000001134261159\n",
      "5.4999999999999964 5.000001134261158\n",
      "5.599999999999996 5.0000011342611606\n",
      "5.699999999999996 5.000001134261158\n",
      "5.799999999999995 5.000001134261159\n",
      "5.899999999999995 5.000001134261159\n",
      "5.999999999999995 5.00000113426116\n",
      "6.099999999999994 5.000001134261159\n",
      "6.199999999999994 5.000001134261159\n"
     ]
    }
   ],
   "source": [
    "# get Detector instance for IFO\n",
    "det = Detector(ifo)\n",
    "\n",
    "i=0\n",
    "while i<=2*np.pi:\n",
    "    polarization = i \n",
    "# get antenna pattern\n",
    "# get time delay to detector from center of the Earth\n",
    "    time_delay = det.time_delay_from_earth_center(ra, dec, gps_time)\n",
    "    local_time = gps_time + time_delay\n",
    "\n",
    "    fp, fc = det.antenna_pattern(ra, dec, polarization, local_time)\n",
    "\n",
    "\n",
    "    print(i, effective_distance(5, np.pi, fp, fc))\n",
    "    i+=0.1"
   ]
  },
  {
   "cell_type": "markdown",
   "id": "b4be6118",
   "metadata": {},
   "source": [
    "### Constructing the strain"
   ]
  },
  {
   "cell_type": "markdown",
   "id": "640ff044",
   "metadata": {},
   "source": [
    "**Strain $\\sigma(t)$**\n",
    "\n",
    "The strain $\\delta L/L$ of the interferometer is (see eq.55 from [Sathyaprakash and Schutz, 2009](https://arxiv.org/pdf/0903.0338.pdf)):\n",
    "\n",
    "$$\\sigma (t) = F_+h_+ + F_{\\times}h_{\\times}$$"
   ]
  },
  {
   "cell_type": "code",
   "execution_count": 22,
   "id": "fec2c729",
   "metadata": {},
   "outputs": [
    {
     "data": {
      "image/png": "[encoded data removed]",
      "text/plain": [
       "<Figure size 1000x400 with 1 Axes>"
      ]
     },
     "metadata": {},
     "output_type": "display_data"
    },
    {
     "data": {
      "image/png": "[encoded data removed]",
      "text/plain": [
       "<Figure size 1000x400 with 1 Axes>"
      ]
     },
     "metadata": {},
     "output_type": "display_data"
    }
   ],
   "source": [
    "from pycbc.waveform import get_td_waveform, get_fd_waveform\n",
    "\n",
    "# Define parameters for the BNS system\n",
    "mass1 = 1.4  # Mass of the first neutron star in solar masses\n",
    "mass2 = 1.4  # Mass of the second neutron star in solar masses\n",
    "distance = 40  # Distance to the binary in megaparsecs\n",
    "inclination = 0  # Inclination angle in radians\n",
    "coa_phase = 0  # Coalescence phase in radians\n",
    "delta_t = 1.0 / 4096  # Time step in seconds\n",
    "f_lower = 30  # Lower frequency cutoff in Hz\n",
    "delta_f = 1.0 / 32  # Frequency step in Hz\n",
    "\n",
    "# Generate the waveform in time domain\n",
    "hp_td, hc_td = get_td_waveform(approximant=\"IMRPhenomD_NRTidal\",\n",
    "                               mass1=mass1,\n",
    "                               mass2=mass2,\n",
    "                               distance=distance,\n",
    "                               inclination=inclination,\n",
    "                               coa_phase=coa_phase,\n",
    "                               delta_t=delta_t,\n",
    "                               f_lower=f_lower)\n",
    "\n",
    "# Generate the waveform in frequency domain\n",
    "hp_fd, hc_fd = get_fd_waveform(approximant=\"IMRPhenomD_NRTidal\",\n",
    "                               mass1=mass1,\n",
    "                               mass2=mass2,\n",
    "                               distance=distance,\n",
    "                               inclination=inclination,\n",
    "                               coa_phase=coa_phase,\n",
    "                               delta_f=delta_f,\n",
    "                               f_lower=f_lower)\n",
    "\n",
    "# Plot the waveform in time domain\n",
    "plt.figure(figsize=(10, 4))\n",
    "plt.plot(hp_td.sample_times, hp_td, label='Plus Polarization', lw=0.2)\n",
    "plt.plot(hc_td.sample_times, hc_td, label='Cross Polarization', lw=0.2)\n",
    "plt.xlabel('Time (s)')\n",
    "plt.ylabel('Strain')\n",
    "plt.legend()\n",
    "plt.title('BNS Waveform in Time Domain')\n",
    "plt.show()\n",
    "\n",
    "# Plot the waveform in frequency domain\n",
    "plt.figure(figsize=(10, 4))\n",
    "plt.plot(hp_fd.sample_frequencies, abs(hp_fd), label='Plus Polarization', lw=0.5)\n",
    "plt.plot(hc_fd.sample_frequencies, abs(hc_fd), label='Cross Polarization', lw=0.5)\n",
    "plt.xlabel('Frequency (Hz)')\n",
    "plt.ylabel('Strain')\n",
    "plt.legend()\n",
    "plt.title('BNS Waveform in Frequency Domain')\n",
    "plt.show()"
   ]
  },
  {
   "cell_type": "code",
   "execution_count": 24,
   "id": "b60adb51",
   "metadata": {},
   "outputs": [
    {
     "data": {
      "image/png": "[encoded data removed]",
      "text/plain": [
       "<Figure size 1000x400 with 1 Axes>"
      ]
     },
     "metadata": {},
     "output_type": "display_data"
    }
   ],
   "source": [
    "def get_detector_strain(ifo, ra, dec, polarization, gps_time, hp, hc):\n",
    "    # get Detector instance for IFO\n",
    "    det = Detector(ifo)\n",
    "    \n",
    "    # get time delay to detector from center of the Earth\n",
    "    time_delay = det.time_delay_from_earth_center(ra, dec, gps_time)\n",
    "    local_time = gps_time + time_delay\n",
    "\n",
    "    # get antenna pattern\n",
    "    fp, fc = det.antenna_pattern(ra, dec, polarization, local_time)\n",
    "    \n",
    "    # calculate strain\n",
    "    strain = fp*hp + fc*hc\n",
    "        \n",
    "    return strain\n",
    "\n",
    "# Calculate the final strain by projecting the waveform into the detector\n",
    "final_strain = get_detector_strain(ifo, ra, dec, polarization, gps_time, hp_td, hc_td)\n",
    "\n",
    "# Plot the final strain\n",
    "plt.figure(figsize=(10, 4))\n",
    "plt.plot(final_strain.sample_times, final_strain, lw=0.2)\n",
    "plt.xlabel('Time (s)')\n",
    "plt.ylabel('Strain')\n",
    "plt.title('Final Strain Projected into Detector')\n",
    "plt.show()"
   ]
  },
  {
   "cell_type": "code",
   "execution_count": 29,
   "id": "4ba2b1b4",
   "metadata": {},
   "outputs": [
    {
     "data": {
      "image/png": "[encoded data removed]",
      "text/plain": [
       "<Figure size 1000x400 with 1 Axes>"
      ]
     },
     "metadata": {},
     "output_type": "display_data"
    }
   ],
   "source": [
    "plt.figure(figsize=(10, 4))\n",
    "plt.plot(final_strain.to_frequencyseries().sample_frequencies, abs(final_strain.to_frequencyseries()), lw=0.2)\n",
    "plt.xlabel('Frequency (Hz)')\n",
    "plt.ylabel('Strain')\n",
    "plt.title('Final Strain Projected into Detector (Frequency Domain)')\n",
    "plt.show()"
   ]
  }
 ],
 "metadata": {
  "kernelspec": {
   "display_name": "tests",
   "language": "python",
   "name": "python3"
  },
  "language_info": {
   "codemirror_mode": {
    "name": "ipython",
    "version": 3
   },
   "file_extension": ".py",
   "mimetype": "text/x-python",
   "name": "python",
   "nbconvert_exporter": "python",
   "pygments_lexer": "ipython3",
   "version": "3.9.13"
  },
  "nteract": {
   "version": "0.28.0"
  }
 },
 "nbformat": 4,
 "nbformat_minor": 5
}
